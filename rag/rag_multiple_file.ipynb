{
 "cells": [
  {
   "cell_type": "markdown",
   "metadata": {},
   "source": [
    "reference:\n",
    "- https://github.com/benitomartin/Milvus-Agentic-RAG-Claude/blob/main/Agentic_RAG_Using_Claude_3_5_Sonnet%2C_LlamaIndex%2C_and_Milvus.ipynb\n",
    "\n",
    "- https://zilliz.com/blog/a-beginners-guide-to-using-llama-3-with-ollama-milvus-langchain\n",
    "\n",
    "- https://github.com/tspannhw/AIM-NYCStreetCams/blob/main/MultipleVectorsAdvanced%20SearchDataModelDesign/streetcamsrag.ipynb\n",
    "\n",
    "- https://github.com/dhivyeshrk/Retrieval-Augmented-Generation-for-news\n",
    "\n",
    "- https://docs.llamaindex.ai/en/stable/examples/vector_stores/MilvusIndexDemo/\n"
   ]
  },
  {
   "cell_type": "code",
   "execution_count": 2,
   "metadata": {},
   "outputs": [],
   "source": [
    "import openai\n",
    "from llama_index.llms.openai import OpenAI\n",
    "from llama_index.core import SimpleDirectoryReader\n",
    "from llama_index.core import VectorStoreIndex, StorageContext\n",
    "from llama_index.vector_stores.milvus import MilvusVectorStore"
   ]
  },
  {
   "cell_type": "code",
   "execution_count": 2,
   "metadata": {},
   "outputs": [],
   "source": [
    "\n",
    "openai.api_key = \"key\" # change to your key"
   ]
  },
  {
   "cell_type": "markdown",
   "metadata": {},
   "source": [
    "### Read files to documents"
   ]
  },
  {
   "cell_type": "code",
   "execution_count": 3,
   "metadata": {},
   "outputs": [],
   "source": [
    "# change to your wsj dir\n",
    "documents = SimpleDirectoryReader(\n",
    "    input_dir=\"./data/wsj_weekday\"\n",
    ").load_data()"
   ]
  },
  {
   "cell_type": "code",
   "execution_count": 7,
   "metadata": {},
   "outputs": [
    {
     "name": "stdout",
     "output_type": "stream",
     "text": [
      "Document ID 0: 8ac88bf6-91de-47cb-82b6-214fadcdcc84\n",
      "Document ID 1: 3c66273e-5bf2-4007-b235-0cac834802c3\n"
     ]
    }
   ],
   "source": [
    "print(\"Document ID 0:\", documents[0].doc_id)\n",
    "print(\"Document ID 1:\", documents[1].doc_id)"
   ]
  },
  {
   "cell_type": "markdown",
   "metadata": {},
   "source": [
    "### Data indexing"
   ]
  },
  {
   "cell_type": "code",
   "execution_count": 8,
   "metadata": {},
   "outputs": [],
   "source": [
    "vector_store = MilvusVectorStore(uri=\"./milvus_wsj.db\", dim=1536, overwrite=True)\n",
    "storage_context = StorageContext.from_defaults(vector_store=vector_store)\n",
    "index = VectorStoreIndex.from_documents(documents, storage_context=storage_context)"
   ]
  },
  {
   "cell_type": "markdown",
   "metadata": {},
   "source": [
    "### Query"
   ]
  },
  {
   "cell_type": "code",
   "execution_count": null,
   "metadata": {},
   "outputs": [],
   "source": [
    "# from llama_index.llms.openai import OpenAI\n",
    "# llm = OpenAI(model=\"gpt-3.5-turbo\")\n",
    "# llm = OpenAI(model=\"gpt-4o-mini\", strict=True)"
   ]
  },
  {
   "cell_type": "code",
   "execution_count": 14,
   "metadata": {},
   "outputs": [
    {
     "name": "stdout",
     "output_type": "stream",
     "text": [
      "date: 2019-12-27\n",
      "Group: 0\n",
      "market trend analysis: The market condition on 2019-12-27 is classified as 0, indicating a neutral or stable market environment. This conclusion can be drawn from various factors such as steady economic indicators, balanced investor sentiment, and lack of significant market-moving events. The news references below highlight a mix of economic activities and central bank policies that suggest a stable market without extreme volatility or directional bias.\n",
      "\n",
      "news reference: \n",
      "1. [\"Quantitative Easing, a Decade Later\", \"https://www.wsj.com/articles/quantitative-easing-a-decade-later-1533032573\"]\n",
      "2. [\"Derby’s Take: K.C. Fed Digs Into What’s Really Driving Hawks and Doves\", \"https://www.wsj.com/articles/derbys-take-k-c-fed-digs-into-whats-really-driving-hawks-and-doves-1533032519\"]\n",
      "3. [\"BP Earnings Boosted by Higher Oil Prices\", \"https://www.wsj.com/articles/bp-posts-sharp-rise-in-profit-1533020146\"]\n",
      "4. [\"Turkey’s Central Bank Raises 2018 Inflation Forecast\", \"https://www.wsj.com/articles/turkeys-central-bank-raises-2018-inflation-forecast-1533032203\"]\n",
      "5. [\"Japan’s Bond Market Gets a Longer Leash\", \"https://www.wsj.com/articles/japans-bond-market-gets-a-longer-leash-1533031932\"]\n"
     ]
    }
   ],
   "source": [
    "# llm = OpenAI(model=\"gpt-4o\")\n",
    "llm = OpenAI(model=\"gpt-4o\")\n",
    "\n",
    "query_engine = index.as_query_engine(similarity_top_k=5, llm=llm)\n",
    "res = query_engine.query(\"\"\"\n",
    "### role ###\n",
    "You are a great and helpful finance economist. You can use all the news on 2019-12-27 and before this date.\n",
    "### task ###\n",
    "can you explain and analysis the market condition (0,1,2,3,4) on 2019-12-27, give five reference of news.\n",
    "### output format ###\n",
    "date:yyyy-mm-dd\n",
    "Group: <market condition on the date>\n",
    "market trend analysis: <why it is this market condition? how to conclude to this condition?>\n",
    "news reference: [[<news 1 title>, <news 1 url>], [<news 2 title>, <news 2 url>], ....]\n",
    "### output ###\n",
    "\"\"\")\n",
    "print(res)"
   ]
  },
  {
   "cell_type": "code",
   "execution_count": null,
   "metadata": {},
   "outputs": [],
   "source": [
    "# change to model you want\n",
    "llm = OpenAI(model=\"gpt-4o\")\n",
    "\n",
    "# change the sampling params\n",
    "query_engine = index.as_query_engine(similarity_top_k=10, llm=llm)\n",
    "res = query_engine.query(\"\"\"\n",
    "### role ###\n",
    "You are a great and helpful finance economist. You can use all the news in milvus_wsj_left.db.\n",
    "### task ###\n",
    "can you explain and analysis the market condition (0,1,2,3,4), give five reference of news as example to explain the condition.\n",
    "### output ###\n",
    "\"\"\")\n",
    "print(res)\n",
    "\n",
    "# Save the result to a text file named 'llm_response.txt'\n",
    "with open(\"llm_response.txt\", \"w\") as file:\n",
    "    file.write(str(res))  # Convert res to string in case it's not already a string"
   ]
  },
  {
   "cell_type": "markdown",
   "metadata": {},
   "source": []
  },
  {
   "cell_type": "code",
   "execution_count": null,
   "metadata": {},
   "outputs": [],
   "source": [
    "# change to model you want\n",
    "llm = OpenAI(model=\"gpt-4o\")\n",
    "\n",
    "# change the sampling params\n",
    "query_engine = index.as_query_engine(similarity_top_k=10,response_mode=\"tree_summarize\",\n",
    "    verbose=True,llm=llm)\n",
    "res = query_engine.query(\"\"\"\n",
    "### Role ###\n",
    "You are a highly knowledgeable and helpful finance economist specializing in the US equity market. You have access to all relevant news with matched regime groups,please reference on US-specific news accross different time span.\n",
    "\n",
    "### Task ###\n",
    "Please note the following:\n",
    "- Important information is enclosed within `<>`.\n",
    "- Fill in the details in the provided placeholders `()`.\n",
    "- Market Regime is defined as: a period of time when a market's conditions remain similar and fluctuate, affecting key investing factors. These factors include risk/return relationships, correlations, and volatilities\n",
    "Your task is to analyze and explain all the market regimes, represented by a regime number (0, 1, 2, 3, 4). For each market regime, provide 5 pieces of <US Market-related News> as evidence to support your analysis, Use as many news as necessary. \n",
    "\n",
    "### Output Format Example ###\n",
    "**Market Regime:** 0\n",
    "**Summary of Market Regime:** (In less than 3 sentences)\n",
    "**Evidence:** (Provide one paragraph with the selected news as evidence to support your reasoning behind the identified market regime.)\n",
    "**References / Links and date to the News:** ()\n",
    "\n",
    "**Market Regime:** 1\n",
    "**Summary of Market Regime:** (In less than 3 sentences)\n",
    "**Evidence:** (Provide one paragraph with the selected news as evidence to support your reasoning behind the identified market regime.)\n",
    "**References / Links and date to the News:** ()\n",
    "\n",
    "**Market Regime:** 2\n",
    "**Summary of Market Regime:** (In less than 3 sentences)\n",
    "**Evidence:** (Provide one paragraph with the selected news as evidence to support your reasoning behind the identified market regime.)\n",
    "**References / Links and date to the News:** ()\n",
    "\n",
    "**Market Regime:** 3\n",
    "**Summary of Market Regime:** (In less than 3 sentences)\n",
    "**Evidence:** (Provide one paragraph with the selected news as evidence to support your reasoning behind the identified market regime.)\n",
    "**References / Links and date to the News:** ()\n",
    "\n",
    "**Market Regime:** 4\n",
    "**Summary of Market Regime:** (In less than 3 sentences)\n",
    "**Evidence:** (Provide one paragraph with the selected news as evidence to support your reasoning behind the identified market regime.)\n",
    "**References / Links and date to the News:** ()\n",
    "\n",
    "### Output ###\n",
    "\"\"\")\n",
    "print(res)\n",
    "\n",
    "# Save the result to a text file named 'llm_response.txt'\n",
    "with open(\"llm_response/tree_sum_1.txt\", \"w\") as file:\n",
    "    file.write(str(res))  # Convert res to string in case it's not already a string"
   ]
  }
 ],
 "metadata": {
  "kernelspec": {
   "display_name": "Python 3",
   "language": "python",
   "name": "python3"
  },
  "language_info": {
   "codemirror_mode": {
    "name": "ipython",
    "version": 3
   },
   "file_extension": ".py",
   "mimetype": "text/x-python",
   "name": "python",
   "nbconvert_exporter": "python",
   "pygments_lexer": "ipython3",
   "version": "3.12.6"
  }
 },
 "nbformat": 4,
 "nbformat_minor": 2
}
